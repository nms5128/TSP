{
 "cells": [
  {
   "cell_type": "code",
   "execution_count": 1,
   "id": "c647ad70",
   "metadata": {},
   "outputs": [
    {
     "name": "stdout",
     "output_type": "stream",
     "text": [
      "Ok!\n"
     ]
    }
   ],
   "source": [
    "import time\n",
    "#import cython\n",
    "\n",
    "%load_ext Cython\n",
    "\n",
    "print(\"Ok!\")"
   ]
  },
  {
   "cell_type": "code",
   "execution_count": null,
   "id": "c2e20890",
   "metadata": {},
   "outputs": [],
   "source": []
  },
  {
   "cell_type": "code",
   "execution_count": 2,
   "id": "4698027f",
   "metadata": {},
   "outputs": [
    {
     "name": "stdout",
     "output_type": "stream",
     "text": [
      "Ok! Result: 83.33333. Time taken: 22.97 sec.\n"
     ]
    }
   ],
   "source": [
    "def f(x):\n",
    "    return(x ** 2 - x)\n",
    "\n",
    "\n",
    "def integrate_f(a, b, N):\n",
    "    s = 0\n",
    "    dx = (b - a) / N\n",
    "    for i in range(N):\n",
    "        s += f(a + i * dx)\n",
    "    return(s * dx)\n",
    "\n",
    "\n",
    "##  ##\n",
    "N = 1e8\n",
    "a = -5\n",
    "b = +5\n",
    "\n",
    "timeStart = time.time()\n",
    "r = integrate_f(a, b, int(N))\n",
    "timeTaken = time.time() - timeStart\n",
    "print(\"Ok! Result: {}. Time taken: {} sec.\".format(\"%.5f\"%r, \"%.2f\"%timeTaken))"
   ]
  },
  {
   "cell_type": "code",
   "execution_count": null,
   "id": "146a03aa",
   "metadata": {},
   "outputs": [],
   "source": []
  },
  {
   "cell_type": "code",
   "execution_count": 3,
   "id": "b5cedeae",
   "metadata": {},
   "outputs": [
    {
     "name": "stderr",
     "output_type": "stream",
     "text": [
      "\n",
      "Error compiling Cython file:\n",
      "------------------------------------------------------------\n",
      "...\n",
      "\n",
      "def cf(x: cython.double):\n",
      "         ^\n",
      "------------------------------------------------------------\n",
      "\n",
      "/home/wsignorke/.cache/ipython/cython/_cython_magic_d50f12e70eeb7e07a7e150ab24f028d0.pyx:2:10: undeclared name not builtin: cython\n",
      "\n",
      "Error compiling Cython file:\n",
      "------------------------------------------------------------\n",
      "...\n",
      "    \n",
      "N = 1e8\n",
      "a = -5\n",
      "b = +5\n",
      "\n",
      "timeStart = time.time()\n",
      "           ^\n",
      "------------------------------------------------------------\n",
      "\n",
      "/home/wsignorke/.cache/ipython/cython/_cython_magic_d50f12e70eeb7e07a7e150ab24f028d0.pyx:27:12: undeclared name not builtin: time\n"
     ]
    }
   ],
   "source": [
    "%%cython\n",
    "\n",
    "def cf(x: cython.double):\n",
    "    return x ** 2 - x\n",
    "\n",
    "\n",
    "def cintegrate_f(a: cython.double, b: cython.double, N: cython.int):\n",
    "    i: cython.int\n",
    "    s: cython.double\n",
    "    dx: cython.double\n",
    "    s = 0\n",
    "    dx = (b - a) / N\n",
    "    for i in range(N):\n",
    "        s += cf(a + i * dx)\n",
    "    return s * dx\n",
    "\n",
    "\n",
    "##  ##\n",
    "N: cython.int\n",
    "a: cython.int\n",
    "b: cython.int\n",
    "r: cython.float\n",
    "    \n",
    "N = 1e8\n",
    "a = -5\n",
    "b = +5\n",
    "\n",
    "timeStart = time.time()\n",
    "r = cintegrate_f(a, b, int(N))\n",
    "timeTaken = time.time() - timeStart\n",
    "print(\"Ok! Result: {}. Time taken: {} sec.\".format(\"%.5f\"%r, \"%.2f\"%timeTaken))"
   ]
  },
  {
   "cell_type": "code",
   "execution_count": null,
   "id": "c497a4b2",
   "metadata": {},
   "outputs": [],
   "source": []
  },
  {
   "cell_type": "code",
   "execution_count": 8,
   "id": "7c81ac5a",
   "metadata": {},
   "outputs": [
    {
     "name": "stdout",
     "output_type": "stream",
     "text": [
      "Ok!\n"
     ]
    }
   ],
   "source": [
    "%%cython\n",
    "\n",
    "def cf(x: double) -> double:\n",
    "    return(x ** 2 - x)\n",
    "\n",
    "\n",
    "\n",
    "def cintegrate_f(a: double, b: double, N: int):\n",
    "    i: int\n",
    "    s: double\n",
    "    dx: double\n",
    "    s = 0\n",
    "    dx = (b - a) / N\n",
    "    for i in range(N):\n",
    "        s += cf(a + i * dx)\n",
    "    return s * dx\n",
    "\n",
    "\n",
    "print(\"Ok!\")"
   ]
  },
  {
   "cell_type": "code",
   "execution_count": 11,
   "id": "2e5d8893",
   "metadata": {},
   "outputs": [
    {
     "name": "stdout",
     "output_type": "stream",
     "text": [
      "Ok! Result: 83.33333. Time taken: 8.95 sec.\n"
     ]
    }
   ],
   "source": [
    "##  ##\n",
    "N: int\n",
    "a: float\n",
    "b: float\n",
    "r: float\n",
    "    \n",
    "N = 1e8\n",
    "a = -5.0\n",
    "b = +5.0\n",
    "\n",
    "timeStart = time.time()\n",
    "r = cintegrate_f(a, b, int(N))\n",
    "timeTaken = time.time() - timeStart\n",
    "print(\"Ok! Result: {}. Time taken: {} sec.\".format(\"%.5f\"%r, \"%.2f\"%timeTaken))"
   ]
  },
  {
   "cell_type": "code",
   "execution_count": null,
   "id": "8a140338",
   "metadata": {},
   "outputs": [],
   "source": []
  },
  {
   "cell_type": "code",
   "execution_count": 9,
   "id": "7c3a5de8",
   "metadata": {},
   "outputs": [
    {
     "ename": "NameError",
     "evalue": "name 'cython' is not defined",
     "output_type": "error",
     "traceback": [
      "\u001b[0;31m---------------------------------------------------------------------------\u001b[0m",
      "\u001b[0;31mNameError\u001b[0m                                 Traceback (most recent call last)",
      "\u001b[0;32m/tmp/ipykernel_7509/2152094892.py\u001b[0m in \u001b[0;36m<module>\u001b[0;34m\u001b[0m\n\u001b[1;32m      1\u001b[0m \u001b[0;31m##  ##\u001b[0m\u001b[0;34m\u001b[0m\u001b[0;34m\u001b[0m\u001b[0;34m\u001b[0m\u001b[0m\n\u001b[0;32m----> 2\u001b[0;31m \u001b[0mN\u001b[0m\u001b[0;34m:\u001b[0m \u001b[0mcython\u001b[0m\u001b[0;34m.\u001b[0m\u001b[0mint\u001b[0m\u001b[0;34m\u001b[0m\u001b[0;34m\u001b[0m\u001b[0m\n\u001b[0m\u001b[1;32m      3\u001b[0m \u001b[0ma\u001b[0m\u001b[0;34m:\u001b[0m \u001b[0mcython\u001b[0m\u001b[0;34m.\u001b[0m\u001b[0mint\u001b[0m\u001b[0;34m\u001b[0m\u001b[0;34m\u001b[0m\u001b[0m\n\u001b[1;32m      4\u001b[0m \u001b[0mb\u001b[0m\u001b[0;34m:\u001b[0m \u001b[0mcython\u001b[0m\u001b[0;34m.\u001b[0m\u001b[0mint\u001b[0m\u001b[0;34m\u001b[0m\u001b[0;34m\u001b[0m\u001b[0m\n\u001b[1;32m      5\u001b[0m \u001b[0mr\u001b[0m\u001b[0;34m:\u001b[0m \u001b[0mcython\u001b[0m\u001b[0;34m.\u001b[0m\u001b[0mfloat\u001b[0m\u001b[0;34m\u001b[0m\u001b[0;34m\u001b[0m\u001b[0m\n",
      "\u001b[0;31mNameError\u001b[0m: name 'cython' is not defined"
     ]
    }
   ],
   "source": [
    "##  ##\n",
    "N: cython.int\n",
    "a: cython.int\n",
    "b: cython.int\n",
    "r: cython.float\n",
    "    \n",
    "N = 1e8\n",
    "a = -5\n",
    "b = +5\n",
    "\n",
    "timeStart = time.time()\n",
    "r = cintegrate_f(a, b, int(N))\n",
    "timeTaken = time.time() - timeStart\n",
    "print(\"Ok! Result: {}. Time taken: {} sec.\".format(\"%.5f\"%r, \"%.2f\"%timeTaken))"
   ]
  },
  {
   "cell_type": "code",
   "execution_count": null,
   "id": "fbe987f1",
   "metadata": {},
   "outputs": [],
   "source": []
  },
  {
   "cell_type": "code",
   "execution_count": null,
   "id": "ae688b14",
   "metadata": {},
   "outputs": [],
   "source": []
  },
  {
   "cell_type": "code",
   "execution_count": null,
   "id": "7b08ccb0",
   "metadata": {},
   "outputs": [],
   "source": []
  },
  {
   "cell_type": "code",
   "execution_count": null,
   "id": "93dfe715",
   "metadata": {},
   "outputs": [],
   "source": []
  }
 ],
 "metadata": {
  "kernelspec": {
   "display_name": "Python 3 (ipykernel)",
   "language": "python",
   "name": "python3"
  },
  "language_info": {
   "codemirror_mode": {
    "name": "ipython",
    "version": 3
   },
   "file_extension": ".py",
   "mimetype": "text/x-python",
   "name": "python",
   "nbconvert_exporter": "python",
   "pygments_lexer": "ipython3",
   "version": "3.8.11"
  }
 },
 "nbformat": 4,
 "nbformat_minor": 5
}
