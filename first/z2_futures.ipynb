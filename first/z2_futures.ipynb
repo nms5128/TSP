{
 "cells": [
  {
   "cell_type": "code",
   "execution_count": 3,
   "id": "770a4113",
   "metadata": {},
   "outputs": [
    {
     "name": "stdout",
     "output_type": "stream",
     "text": [
      "Ok!\n"
     ]
    }
   ],
   "source": [
    "import time\n",
    "import math\n",
    "import concurrent.futures\n",
    "\n",
    "print(\"Ok!\")"
   ]
  },
  {
   "cell_type": "code",
   "execution_count": null,
   "id": "8f53c067",
   "metadata": {},
   "outputs": [],
   "source": []
  },
  {
   "cell_type": "code",
   "execution_count": 16,
   "id": "80655425",
   "metadata": {},
   "outputs": [
    {
     "data": {
      "text/plain": [
       "True"
      ]
     },
     "execution_count": 16,
     "metadata": {},
     "output_type": "execute_result"
    }
   ],
   "source": [
    "def isPrime(n, sleep=3):\n",
    "    time.sleep(sleep)\n",
    "    if n < 2:\n",
    "        return(False)\n",
    "    if n == 2:\n",
    "        return(True)\n",
    "    if n % 2 == 0:\n",
    "        return(False)\n",
    "\n",
    "    sqrt_n = int(math.floor(math.sqrt(n)))\n",
    "    for i in range(3, sqrt_n + 1, 2):\n",
    "        if n % i == 0:\n",
    "            return(False)\n",
    "    return(True)\n",
    "\n",
    "\n",
    "numbers = [\n",
    "    112272535095293,\n",
    "    23453234,\n",
    "    112582705942171,\n",
    "    112272535095293,\n",
    "    115280095190773,\n",
    "    115797848077099,\n",
    "    9034621337293872,\n",
    "    1099726899285419]\n",
    "\n",
    "\n",
    "isPrime(37)"
   ]
  },
  {
   "cell_type": "code",
   "execution_count": null,
   "id": "d0d9f4d8",
   "metadata": {},
   "outputs": [],
   "source": []
  },
  {
   "cell_type": "code",
   "execution_count": 8,
   "id": "e9d69800",
   "metadata": {},
   "outputs": [
    {
     "name": "stdout",
     "output_type": "stream",
     "text": [
      "112272535095293 is prime: True\n",
      "23453234 is prime: False\n",
      "112582705942171 is prime: True\n",
      "112272535095293 is prime: True\n",
      "115280095190773 is prime: True\n",
      "115797848077099 is prime: True\n",
      "9034621337293872 is prime: False\n",
      "1099726899285419 is prime: False\n"
     ]
    }
   ],
   "source": [
    "with concurrent.futures.ProcessPoolExecutor() as executor:\n",
    "    for number, prime in zip(numbers, executor.map(isPrime, numbers)):\n",
    "        print('%d is prime: %s' % (number, prime))"
   ]
  },
  {
   "cell_type": "code",
   "execution_count": null,
   "id": "fbb56948",
   "metadata": {},
   "outputs": [],
   "source": []
  },
  {
   "cell_type": "code",
   "execution_count": 18,
   "id": "56fe4cd1",
   "metadata": {},
   "outputs": [
    {
     "name": "stdout",
     "output_type": "stream",
     "text": [
      "1\n",
      "2\n",
      "4\n",
      "True\n",
      "False\n",
      "True\n",
      "True\n",
      "True\n",
      "True\n",
      "False\n",
      "False\n",
      "Ok!\n"
     ]
    }
   ],
   "source": [
    "executor = concurrent.futures.ProcessPoolExecutor()\n",
    "print(\"1\")\n",
    "fs = executor.map(isPrime, numbers)\n",
    "print(\"2\")\n",
    "'''\n",
    "# ret = [f.result() for f in fs]\n",
    "# concurrent.futures.wait(fs)\n",
    "print(\"3\")\n",
    "'''\n",
    "\n",
    "print(\"4\")\n",
    "\n",
    "for f in fs:\n",
    "    print(f)\n",
    "    \n",
    "executor.shutdown()\n",
    "print(\"Ok!\")"
   ]
  },
  {
   "cell_type": "code",
   "execution_count": 11,
   "id": "365e775b",
   "metadata": {},
   "outputs": [
    {
     "name": "stdout",
     "output_type": "stream",
     "text": [
      "False\n",
      "True\n",
      "True\n",
      "True\n",
      "True\n",
      "False\n",
      "False\n"
     ]
    }
   ],
   "source": [
    "executor = concurrent.futures.ProcessPoolExecutor()\n",
    "print(\"1\")\n",
    "fs = [executor.submit(isPrime, number) for number in numbers]\n",
    "print(\"2\")\n",
    "ret = concurrent.futures.wait(fs)\n",
    "print(\"3\")\n",
    "print(ret)"
   ]
  },
  {
   "cell_type": "code",
   "execution_count": null,
   "id": "feb1b0d6",
   "metadata": {},
   "outputs": [],
   "source": []
  },
  {
   "cell_type": "code",
   "execution_count": null,
   "id": "0d4ba198",
   "metadata": {},
   "outputs": [],
   "source": []
  },
  {
   "cell_type": "code",
   "execution_count": null,
   "id": "5d774dba",
   "metadata": {},
   "outputs": [],
   "source": []
  },
  {
   "cell_type": "code",
   "execution_count": null,
   "id": "f92d4f5b",
   "metadata": {},
   "outputs": [],
   "source": []
  },
  {
   "cell_type": "code",
   "execution_count": null,
   "id": "53ff2361",
   "metadata": {},
   "outputs": [],
   "source": []
  }
 ],
 "metadata": {
  "kernelspec": {
   "display_name": "Python 3 (ipykernel)",
   "language": "python",
   "name": "python3"
  },
  "language_info": {
   "codemirror_mode": {
    "name": "ipython",
    "version": 3
   },
   "file_extension": ".py",
   "mimetype": "text/x-python",
   "name": "python",
   "nbconvert_exporter": "python",
   "pygments_lexer": "ipython3",
   "version": "3.8.11"
  }
 },
 "nbformat": 4,
 "nbformat_minor": 5
}
