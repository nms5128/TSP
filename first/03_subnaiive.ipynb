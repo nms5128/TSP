{
 "cells": [
  {
   "cell_type": "code",
   "execution_count": 9,
   "id": "103d7808",
   "metadata": {},
   "outputs": [
    {
     "name": "stderr",
     "output_type": "stream",
     "text": [
      "2021-11-05 15:11:35.796674: W tensorflow/stream_executor/platform/default/dso_loader.cc:60] Could not load dynamic library 'libcudart.so.11.0'; dlerror: libcudart.so.11.0: cannot open shared object file: No such file or directory\n",
      "2021-11-05 15:11:35.796717: I tensorflow/stream_executor/cuda/cudart_stub.cc:29] Ignore above cudart dlerror if you do not have a GPU set up on your machine.\n"
     ]
    },
    {
     "name": "stdout",
     "output_type": "stream",
     "text": [
      "Report:2021-11-05 15:11:37 - Ok!\n"
     ]
    }
   ],
   "source": [
    "'''\n",
    "subnaive contains optimizations on (almost?) each step:\n",
    "    - generating towns\n",
    "    - list routes -- IN PROGRESS\n",
    "'''\n",
    "\n",
    "import os\n",
    "import time\n",
    "\n",
    "import matplotlib.pyplot as plt\n",
    "import itertools as it\n",
    "import numpy as np\n",
    "import multiprocessing as mp\n",
    "\n",
    "from importlib import reload\n",
    "\n",
    "locationPrefix = \"/mnt/c/Users/Zadran_Ghazohod\"\n",
    "libsLocation = os.path.join(locationPrefix, \"OneDrive\", \"rfs_files\", \"langfiles\", \"0009_gdrove\", \"tf\")\n",
    "homeLocation = os.getcwd()\n",
    "\n",
    "os.chdir(libsLocation)\n",
    "import all_aux as au\n",
    "import tsp.liball as tsp\n",
    "os.chdir(homeLocation)\n",
    "\n",
    "au.showMsg(\"Ok!\")"
   ]
  },
  {
   "cell_type": "code",
   "execution_count": null,
   "id": "544d9fb3",
   "metadata": {},
   "outputs": [],
   "source": []
  },
  {
   "cell_type": "code",
   "execution_count": 2,
   "id": "21c23bf4",
   "metadata": {},
   "outputs": [
    {
     "name": "stdout",
     "output_type": "stream",
     "text": [
      "Ok!\n"
     ]
    }
   ],
   "source": [
    "##  *  *  *  GENERAL  *  *  *  ##\n",
    "\n",
    "def removeListItem(xs, x):\n",
    "    if not isinstance(x, list):\n",
    "        x = [x]\n",
    "    return([i for i in xs if i not in x])\n",
    "\n",
    "\n",
    "\n",
    "def prependBeginToEnds(begin, ends):\n",
    "    '''\n",
    "    begin: list[M]\n",
    "    ends:  list[list[M]]\n",
    "    '''\n",
    "    if not isinstance(begin, list):\n",
    "        begin = [begin]\n",
    "    ##\n",
    "    return([begin + e for e in ends])\n",
    "\n",
    "\n",
    "\n",
    "def chainLists(xs):\n",
    "    return(list(it.chain.from_iterable(xs)))\n",
    "\n",
    "\n",
    "\n",
    "def combinations(xs):\n",
    "    return(list(it.permutations(xs)))\n",
    "\n",
    "\n",
    "\n",
    "\n",
    "##  *  *  *  GENERATE DATA  *  *  *  ##\n",
    "\n",
    "def generateTowns(n=10, minCoord=-1.0, maxCoord=1.0):\n",
    "    townNames = [\"Bordertown\", \"Columbia\", \"Rapture\", \"Yharnam\", \"Yahar'Gul (UV)\",                  \n",
    "                 \"(the FC of) Newark\", \"Genty Town\", \"Sliabh Luachra\", \"Leithrim Fancy\",\n",
    "                 \"Edge Knot City\", \"Mountain Knot City\", \"Hemwick\",\n",
    "                 \"San-Chelyabinsk\", \"Neuevasyuki\", \"Houston (WGP)\", \n",
    "                 \"Kryzhopl\", \"Bender's (Hold)\", \"Battleground\"\n",
    "                 \"Zion\", \"Nite-City\", \"Starlink Shrine\", \"Vault 13\",\n",
    "                 \"Kuldakhar\", \"Eastheaven\", \"New Gettisburg\", \"Wellington Wells\", \"Redgrave\",\n",
    "                 ]\n",
    "    \n",
    "    m = len(townNames)\n",
    "    if m < n:\n",
    "        fold = (n // m) + 1\n",
    "        townNames = townNames * fold \n",
    "    \n",
    "    points = np.random.normal(loc=0.0, scale=maxCoord, size=(n,2))\n",
    "    points = [tuple(i) for i in points]\n",
    "    \n",
    "    towns = [(name, coords) for name,coords in zip(townNames[:n], points)]\n",
    "    return(towns)\n",
    "\n",
    "\n",
    "\n",
    "def indexedTowns(towns, startIndex=1):\n",
    "    return([(no + startIndex,) + t for no,t in enumerate(towns)])\n",
    "\n",
    "\n",
    "\n",
    "def plotTowns(towns, drawRoutes=None, plotSize=10, startId=0):\n",
    "    '''\n",
    "    towns: List[Tuple(name, Tuple(coordX, coordY))] - full unsorted list of towns\n",
    "    drawRoutes: List[Tuple(  Tuple(name, Tuple(coordX, coordY))), int  )] - f.e. one of shortest travels\n",
    "                                                                                 found and its length\n",
    "    '''\n",
    "    fig, ax = plt.subplots(1,1, figsize=(plotSize, plotSize))\n",
    "    \n",
    "    ## ALL DISTS\n",
    "    for town in towns:\n",
    "        otherTowns = removeListItem(towns, town)\n",
    "        for t in otherTowns:\n",
    "            ax.plot([town[1][0], t[1][0]], [town[1][1], t[1][1]], c=\"lightgrey\")\n",
    "            \n",
    "    ## POINTS\n",
    "    for no, town in enumerate(towns):       \n",
    "        ax.scatter(town[1][0], town[1][1])\n",
    "        ax.text(x=town[1][0]+0.005, y=town[1][1]+0.005, s=\"{}: {}\".format(no+startId, town[0]))\n",
    "        \n",
    "    ## DRAW SELECTED ROUTES\n",
    "    if drawRoutes is not None:\n",
    "        for route in drawRoutes:\n",
    "            shortXs = [t[1][0] for t in route]\n",
    "            shortYs = [t[1][1] for t in route]\n",
    "        \n",
    "        ax.plot(shortXs, shortYs, c=\"red\")\n",
    "        \n",
    "    ## GENERAL\n",
    "    coordXs = [t[1][0] for t in towns]\n",
    "    coordYs = [t[1][1] for t in towns]\n",
    "    maxCoordValue = max([abs(i) for i in coordXs+coordYs])\n",
    "    \n",
    "    ax.set_xlim((-maxCoordValue, maxCoordValue))\n",
    "    ax.set_ylim((-maxCoordValue, maxCoordValue))\n",
    "    ax.grid(ls=\"--\")\n",
    "    \n",
    "    \n",
    "    \n",
    "##  *  *  *\n",
    "\n",
    "def listRoutes(xs, x0, optimize=False):\n",
    "    assert (x0 in xs), \\\n",
    "        \"Start point shall be in a list in very beginning\"\n",
    "    \n",
    "    xs = removeListItem(xs, x0)\n",
    "    combs = combinations(xs)\n",
    "\n",
    "    if optimize:\n",
    "        combs = [c for c in combs if c[0] < c[-1]]\n",
    "\n",
    "    combs = [(x0,) + xi + (x0,) for xi in combs]\n",
    "        \n",
    "    ##\n",
    "    return(combs)\n",
    "\n",
    "\n",
    "    \n",
    "print(\"Ok!\")"
   ]
  },
  {
   "cell_type": "code",
   "execution_count": null,
   "id": "9b8616bb",
   "metadata": {},
   "outputs": [],
   "source": []
  },
  {
   "cell_type": "code",
   "execution_count": null,
   "id": "99bbf3e4",
   "metadata": {},
   "outputs": [],
   "source": [
    "towns = generateTowns(13)\n",
    "\n",
    "idedTowns = indexedTowns(towns, startIndex=0)\n",
    "ids = [t[0] for t in idedTowns]\n",
    "\n",
    "timeStart = time.time()\n",
    "combs1 = listRoutes(ids, ids[0])\n",
    "t1 = time.time() - timeStart\n",
    "\n",
    "timeStart = time.time()\n",
    "combs2 = listRoutes(ids, ids[0], optimize=False)\n",
    "t2 = time.time() - timeStart\n",
    "\n",
    "print(\"Lengths: not optimized: {} VS. optimized: {}\".format(len(combs1), len(combs2)))\n",
    "print(\"Times: not optimized: {} VS. optimized: {} sec.\".format(\"%.2f\"%t1, \"%.2f\"%t2))"
   ]
  },
  {
   "cell_type": "code",
   "execution_count": 10,
   "id": "189e30ee",
   "metadata": {},
   "outputs": [
    {
     "name": "stdout",
     "output_type": "stream",
     "text": [
      "39916800\n",
      "479001600\n",
      "Machine parameters for int64\n",
      "---------------------------------------------------------------\n",
      "min = -9223372036854775808\n",
      "max = 9223372036854775807\n",
      "---------------------------------------------------------------\n",
      "\n"
     ]
    }
   ],
   "source": [
    "print(tsp.fac(11))\n",
    "print(tsp.fac(12))\n",
    "print(np.iinfo(int))"
   ]
  },
  {
   "cell_type": "code",
   "execution_count": null,
   "id": "183335f1",
   "metadata": {},
   "outputs": [],
   "source": [
    "##  GENERATE DATA\n",
    "towns = generateTowns(15)\n",
    "plotTowns(towns, plotSize=15)"
   ]
  },
  {
   "cell_type": "code",
   "execution_count": 12,
   "id": "924389a3",
   "metadata": {},
   "outputs": [
    {
     "data": {
      "text/plain": [
       "67"
      ]
     },
     "execution_count": 12,
     "metadata": {},
     "output_type": "execute_result"
    }
   ],
   "source": [
    "x = 92233720368547758070\n",
    "x.bit_length()"
   ]
  },
  {
   "cell_type": "code",
   "execution_count": 30,
   "id": "b1a0fa22",
   "metadata": {},
   "outputs": [
    {
     "name": "stdout",
     "output_type": "stream",
     "text": [
      "<itertools.permutations object at 0x7f38fbae84a0>\n"
     ]
    },
    {
     "ename": "TypeError",
     "evalue": "'itertools.permutations' object is not subscriptable",
     "output_type": "error",
     "traceback": [
      "\u001b[0;31m---------------------------------------------------------------------------\u001b[0m",
      "\u001b[0;31mTypeError\u001b[0m                                 Traceback (most recent call last)",
      "\u001b[0;32m/tmp/ipykernel_15230/650516775.py\u001b[0m in \u001b[0;36m<module>\u001b[0;34m\u001b[0m\n\u001b[1;32m      4\u001b[0m \u001b[0mprint\u001b[0m\u001b[0;34m(\u001b[0m\u001b[0ma\u001b[0m\u001b[0;34m)\u001b[0m\u001b[0;34m\u001b[0m\u001b[0;34m\u001b[0m\u001b[0m\n\u001b[1;32m      5\u001b[0m \u001b[0;34m\u001b[0m\u001b[0m\n\u001b[0;32m----> 6\u001b[0;31m \u001b[0mprint\u001b[0m\u001b[0;34m(\u001b[0m\u001b[0ma\u001b[0m\u001b[0;34m[\u001b[0m\u001b[0;36m4\u001b[0m\u001b[0;34m]\u001b[0m\u001b[0;34m)\u001b[0m\u001b[0;34m\u001b[0m\u001b[0;34m\u001b[0m\u001b[0m\n\u001b[0m",
      "\u001b[0;31mTypeError\u001b[0m: 'itertools.permutations' object is not subscriptable"
     ]
    }
   ],
   "source": [
    "n = 5\n",
    "\n",
    "a = it.permutations(range(n))\n",
    "print(a)\n",
    "\n",
    "print(a[4])"
   ]
  },
  {
   "cell_type": "code",
   "execution_count": 34,
   "id": "425f56f3",
   "metadata": {},
   "outputs": [
    {
     "name": "stdout",
     "output_type": "stream",
     "text": [
      "Ok!\n"
     ]
    }
   ],
   "source": [
    "a = it.permutations(range(5))\n",
    "print(\"Ok!\")"
   ]
  },
  {
   "cell_type": "code",
   "execution_count": 86,
   "id": "f52916f8",
   "metadata": {},
   "outputs": [
    {
     "data": {
      "text/plain": [
       "(2, 0, 3, 4, 1)"
      ]
     },
     "execution_count": 86,
     "metadata": {},
     "output_type": "execute_result"
    }
   ],
   "source": [
    "next(a)"
   ]
  },
  {
   "cell_type": "code",
   "execution_count": null,
   "id": "dedec739",
   "metadata": {},
   "outputs": [],
   "source": []
  },
  {
   "cell_type": "code",
   "execution_count": null,
   "id": "9e6abfab",
   "metadata": {},
   "outputs": [],
   "source": []
  },
  {
   "cell_type": "code",
   "execution_count": null,
   "id": "5ef6dbe2",
   "metadata": {},
   "outputs": [],
   "source": []
  }
 ],
 "metadata": {
  "kernelspec": {
   "display_name": "Python 3 (ipykernel)",
   "language": "python",
   "name": "python3"
  },
  "language_info": {
   "codemirror_mode": {
    "name": "ipython",
    "version": 3
   },
   "file_extension": ".py",
   "mimetype": "text/x-python",
   "name": "python",
   "nbconvert_exporter": "python",
   "pygments_lexer": "ipython3",
   "version": "3.8.11"
  }
 },
 "nbformat": 4,
 "nbformat_minor": 5
}
